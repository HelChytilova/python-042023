{
 "cells": [
  {
   "cell_type": "code",
   "execution_count": 2,
   "metadata": {},
   "outputs": [
    {
     "data": {
      "text/plain": [
       "ShapiroResult(statistic=0.9694532752037048, pvalue=0.33090925216674805)"
      ]
     },
     "execution_count": 2,
     "metadata": {},
     "output_type": "execute_result"
    }
   ],
   "source": [
    "import pandas\n",
    "from scipy import stats\n",
    "data=pandas.read_csv(\"ukol_02_a.csv\")\n",
    "res98 = stats.shapiro(data[\"97\"])\n",
    "res98\n",
    "\n"
   ]
  },
  {
   "attachments": {},
   "cell_type": "markdown",
   "metadata": {},
   "source": [
    "V tomto případě nezamítáme nulovou hypotézu, že data z léta 2022 mají normální rozdělení."
   ]
  },
  {
   "cell_type": "code",
   "execution_count": 3,
   "metadata": {},
   "outputs": [
    {
     "data": {
      "text/plain": [
       "ShapiroResult(statistic=0.9803104996681213, pvalue=0.687289297580719)"
      ]
     },
     "execution_count": 3,
     "metadata": {},
     "output_type": "execute_result"
    }
   ],
   "source": [
    "res97 = stats.shapiro(data[\"98\"])\n",
    "res97"
   ]
  },
  {
   "attachments": {},
   "cell_type": "markdown",
   "metadata": {},
   "source": [
    "V tomto případě nezamítáme nulovou hypotézu, že data ze zimy 2022/2023 mají normální rozdělení."
   ]
  },
  {
   "cell_type": "code",
   "execution_count": 10,
   "metadata": {},
   "outputs": [
    {
     "data": {
      "text/plain": [
       "TtestResult(statistic=3.868878598419143, pvalue=0.0003938172257904746, df=40)"
      ]
     },
     "execution_count": 10,
     "metadata": {},
     "output_type": "execute_result"
    }
   ],
   "source": [
    "res=stats.ttest_rel(data[\"97\"],data[\"98\"])\n",
    "res"
   ]
  },
  {
   "attachments": {},
   "cell_type": "markdown",
   "metadata": {},
   "source": [
    "Zde můžeme využít test na průměr - vzhledem k tomu, že se jedná o párové pozorování ze dvou období a normalnímu rozložení dat v obou souborech, použijeme párový t-test. \n",
    "\n",
    "H0:Procento lidí, kteří řadí inflaci mezi 2 své nejzávažnější problémy, se nezměnilo.\n",
    "H1:Procento lidí, kteří řadí inflaci mezi 2 své nejzávažnější problémy, se změnilo.\n",
    "\n",
    "Výsledná hladina významnosti testu:p<0.05. Potvrzujeme tedy alternativní hypotézu: Procento lidí, kteří řadí inflaci mezi 2 své nejzávažnější problémy, se změnilo."
   ]
  },
  {
   "cell_type": "code",
   "execution_count": null,
   "metadata": {},
   "outputs": [],
   "source": [
    "dataInf=pandas.read_csv(\"ukol_02_a.csv\")\n",
    "data_eur=pandas.read_csv(\"countries.csv\")\n",
    "data_eur=data_eur.merge(dataInf, how='left')\n",
    "data_eurozona=data_eur[data_eur[\"Euro\"]==1]\n",
    "data_outEurozona=data_eur[data_eur[\"Euro\"]==0]\n",
    "data_eur\n"
   ]
  },
  {
   "cell_type": "code",
   "execution_count": 6,
   "metadata": {},
   "outputs": [
    {
     "data": {
      "text/plain": [
       "ShapiroResult(statistic=0.952153205871582, pvalue=0.24169494211673737)"
      ]
     },
     "execution_count": 6,
     "metadata": {},
     "output_type": "execute_result"
    }
   ],
   "source": [
    "res98 = stats.shapiro(data_eur[\"97\"])\n",
    "res98"
   ]
  },
  {
   "attachments": {},
   "cell_type": "markdown",
   "metadata": {},
   "source": [
    "Data pouze pro země EU:\n",
    "V tomto případě nezamítáme nulovou hypotézu, že data z léta 2022 mají normální rozdělení."
   ]
  },
  {
   "cell_type": "code",
   "execution_count": 7,
   "metadata": {},
   "outputs": [
    {
     "data": {
      "text/plain": [
       "ShapiroResult(statistic=0.9399222135543823, pvalue=0.12131019681692123)"
      ]
     },
     "execution_count": 7,
     "metadata": {},
     "output_type": "execute_result"
    }
   ],
   "source": [
    "res98 = stats.shapiro(data_eur[\"98\"])\n",
    "res98"
   ]
  },
  {
   "attachments": {},
   "cell_type": "markdown",
   "metadata": {},
   "source": [
    "Data pouze pro země EU:\n",
    "V tomto případě nezamítáme nulovou hypotézu, že data ze zimy 2022/2023 mají normální rozdělení."
   ]
  },
  {
   "cell_type": "code",
   "execution_count": 17,
   "metadata": {},
   "outputs": [
    {
     "data": {
      "text/plain": [
       "TtestResult(statistic=3.4869444202944764, pvalue=0.0017533857526091583, df=26)"
      ]
     },
     "execution_count": 17,
     "metadata": {},
     "output_type": "execute_result"
    }
   ],
   "source": [
    "res=stats.ttest_rel(data_eur[\"97\"],data_eur[\"98\"])\n",
    "res"
   ]
  },
  {
   "attachments": {},
   "cell_type": "markdown",
   "metadata": {},
   "source": [
    "Data pouze pro EU:\n",
    "\n",
    "Zde můžeme využít test na průměr - vzhledem k tomu, že se jedná o párové pozorování ze dvou období a normalnímu rozložení dat v obou souborech, použijeme párový t-test. \n",
    "\n",
    "H0:Procento lidí, kteří řadí inflaci mezi 2 své nejzávažnější problémy, se nezměnilo.\n",
    "H1:Procento lidí, kteří řadí inflaci mezi 2 své nejzávažnější problémy, se změnilo.\n",
    "\n",
    "Výsledná hladina významnosti testu:p<0.05. Zamítáme nulovou hypotézu H0 a potvrzujeme tedy alternativní hypotézu H1: Procento lidí, kteří řadí inflaci mezi 2 své nejzávažnější problémy, se změnilo."
   ]
  },
  {
   "cell_type": "code",
   "execution_count": 17,
   "metadata": {},
   "outputs": [
    {
     "data": {
      "text/plain": [
       "ShapiroResult(statistic=0.9438267350196838, pvalue=0.15140558779239655)"
      ]
     },
     "execution_count": 17,
     "metadata": {},
     "output_type": "execute_result"
    }
   ],
   "source": [
    "dataEUR=pandas.read_csv(\"ukol_02_b.csv\")\n",
    "data_eur=pandas.read_csv(\"countries.csv\")\n",
    "data_eur=data_eur.merge(dataEUR, how='left')\n",
    "res_gov=stats.shapiro(data_eur[\"National Government Trust\"])\n",
    "res_gov"
   ]
  },
  {
   "attachments": {},
   "cell_type": "markdown",
   "metadata": {},
   "source": [
    "Data pro země EU:\n",
    "V tomto případě nezamítáme nulovou hypotézu, že data vyjadřující důvěru k vládě v zemích EU mají normální rozdělení."
   ]
  },
  {
   "cell_type": "code",
   "execution_count": 11,
   "metadata": {},
   "outputs": [
    {
     "data": {
      "text/plain": [
       "ShapiroResult(statistic=0.9735807180404663, pvalue=0.6981646418571472)"
      ]
     },
     "execution_count": 11,
     "metadata": {},
     "output_type": "execute_result"
    }
   ],
   "source": [
    "res_eu=stats.shapiro(data_eur[\"EU Trust\"])\n",
    "res_eu"
   ]
  },
  {
   "attachments": {},
   "cell_type": "markdown",
   "metadata": {},
   "source": [
    "Data pro země EU:\n",
    "V tomto případě nezamítáme nulovou hypotézu, že data vyjadřující důvěru k evropské unii mají normální rozdělení."
   ]
  },
  {
   "cell_type": "code",
   "execution_count": 16,
   "metadata": {},
   "outputs": [
    {
     "data": {
      "text/plain": [
       "PearsonRResult(statistic=0.6097186340024557, pvalue=0.0007345896228823346)"
      ]
     },
     "execution_count": 16,
     "metadata": {},
     "output_type": "execute_result"
    }
   ],
   "source": [
    "resGovEu=stats.pearsonr(data_eur[\"National Government Trust\"],data_eur[\"EU Trust\"])\n",
    "resGovEu\n"
   ]
  },
  {
   "attachments": {},
   "cell_type": "markdown",
   "metadata": {},
   "source": [
    "Data pro země EU:\n",
    "\n",
    "Použijem test statistické významnosti korelace.\n",
    "\n",
    "H0: Není korelace mezi procentem lidí, které věří EU, a procentem lidí, kteří věří své národní vládě.\n",
    "H1: Je korelace mezi procentem lidí, které věří EU, a procentem lidí, kteří věří své národní vládě.\n",
    "\n",
    "Hladina významnosti:p<0.05 - zamítáme tedy H0 a potvrzujeme H1 - Tedy je korelace mezi procentem lidí, které věří EU, a procentem lidí, kteří věří své národní vládě."
   ]
  },
  {
   "cell_type": "code",
   "execution_count": 19,
   "metadata": {},
   "outputs": [
    {
     "data": {
      "text/plain": [
       "Ttest_indResult(statistic=-0.33471431258258433, pvalue=0.7406326832748829)"
      ]
     },
     "execution_count": 19,
     "metadata": {},
     "output_type": "execute_result"
    }
   ],
   "source": [
    "data_eurozona=data_eur[data_eur[\"Euro\"]==1]\n",
    "data_outEurozona=data_eur[data_eur[\"Euro\"]==0]\n",
    "res=stats.ttest_ind(data_eurozona[\"EU Trust\"],data_outEurozona[\"EU Trust\"])\n",
    "res"
   ]
  },
  {
   "attachments": {},
   "cell_type": "markdown",
   "metadata": {},
   "source": [
    "Srovnání dat zemí eurozony a mimo eurozonu:\n",
    "\n",
    "Použijeme nepárový test na průměr.\n",
    "\n",
    "H0: Důvěra v EU je v zemích eurozony a mimo eurozonu stejná.\n",
    "H1: Důvěra v EU je v zemích eurozony a mimo eurozonu různá.\n",
    "\n",
    "Hladina významnosti:p>0.05. Nezamítáme nulovou hypotézu H0, tedy že důvěra v EU je v zemích eurozony a mimo eurozonu stejná."
   ]
  }
 ],
 "metadata": {
  "kernelspec": {
   "display_name": "Python 3",
   "language": "python",
   "name": "python3"
  },
  "language_info": {
   "codemirror_mode": {
    "name": "ipython",
    "version": 3
   },
   "file_extension": ".py",
   "mimetype": "text/x-python",
   "name": "python",
   "nbconvert_exporter": "python",
   "pygments_lexer": "ipython3",
   "version": "3.9.10"
  },
  "orig_nbformat": 4
 },
 "nbformat": 4,
 "nbformat_minor": 2
}
